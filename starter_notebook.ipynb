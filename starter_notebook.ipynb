{
  "cells": [
    {
      "cell_type": "markdown",
      "metadata": {
        "id": "view-in-github",
        "colab_type": "text"
      },
      "source": [
        "<a href=\"https://colab.research.google.com/github/Jarifakhatunmoitry/Weather_Assignment_Curtin/blob/main/starter_notebook.ipynb\" target=\"_parent\"><img src=\"https://colab.research.google.com/assets/colab-badge.svg\" alt=\"Open In Colab\"/></a>"
      ]
    },
    {
      "cell_type": "markdown",
      "id": "72e78a05",
      "metadata": {
        "id": "72e78a05"
      },
      "source": [
        "# 🌦️ WeatherWise – Starter Notebook\n",
        "\n",
        "Welcome to your **WeatherWise** project notebook! This scaffold is designed to help you build your weather advisor app using Python, visualisations, and AI-enhanced development.\n",
        "\n",
        "---\n",
        "\n",
        "📄 **Full Assignment Specification**  \n",
        "See [`ASSIGNMENT.md`](ASSIGNMENT.md) or check the LMS for full details.\n",
        "\n",
        "📝 **Quick Refresher**  \n",
        "A one-page summary is available in [`resources/assignment-summary.md`](resources/assignment-summary.md).\n",
        "\n",
        "---\n",
        "\n",
        "🧠 **This Notebook Structure is Optional**  \n",
        "You’re encouraged to reorganise, rename sections, or remove scaffold cells if you prefer — as long as your final version meets the requirements.\n",
        "\n",
        "✅ You may delete this note before submission.\n",
        "\n"
      ]
    },
    {
      "cell_type": "markdown",
      "id": "fa8c7f6c",
      "metadata": {
        "id": "fa8c7f6c"
      },
      "source": [
        "## 🧰 Setup and Imports\n",
        "\n",
        "This section imports commonly used packages and installs any additional tools used in the project.\n",
        "\n",
        "- You may not need all of these unless you're using specific features (e.g. visualisations, advanced prompting).\n",
        "- The notebook assumes the following packages are **pre-installed** in the provided environment or installable via pip:\n",
        "  - `requests`, `matplotlib`, `pyinputplus`\n",
        "  - `fetch-my-weather` (for accessing weather data easily)\n",
        "  - `hands-on-ai` (for AI logging, comparisons, or prompting tools)\n",
        "\n",
        "If you're running this notebook in **Google Colab**, uncomment the following lines to install the required packages.\n"
      ]
    },
    {
      "cell_type": "code",
      "execution_count": 5,
      "id": "70c3f3f1",
      "metadata": {
        "id": "70c3f3f1",
        "colab": {
          "base_uri": "https://localhost:8080/"
        },
        "outputId": "f14986e6-9cb2-4b05-d874-68f2bb7a30e2"
      },
      "outputs": [
        {
          "output_type": "stream",
          "name": "stdout",
          "text": [
            "Collecting fetch-my-weather\n",
            "  Downloading fetch_my_weather-0.4.0-py3-none-any.whl.metadata (12 kB)\n",
            "Requirement already satisfied: requests>=2.25.0 in /usr/local/lib/python3.12/dist-packages (from fetch-my-weather) (2.32.4)\n",
            "Requirement already satisfied: pydantic>=1.8.0 in /usr/local/lib/python3.12/dist-packages (from fetch-my-weather) (2.11.10)\n",
            "Requirement already satisfied: annotated-types>=0.6.0 in /usr/local/lib/python3.12/dist-packages (from pydantic>=1.8.0->fetch-my-weather) (0.7.0)\n",
            "Requirement already satisfied: pydantic-core==2.33.2 in /usr/local/lib/python3.12/dist-packages (from pydantic>=1.8.0->fetch-my-weather) (2.33.2)\n",
            "Requirement already satisfied: typing-extensions>=4.12.2 in /usr/local/lib/python3.12/dist-packages (from pydantic>=1.8.0->fetch-my-weather) (4.15.0)\n",
            "Requirement already satisfied: typing-inspection>=0.4.0 in /usr/local/lib/python3.12/dist-packages (from pydantic>=1.8.0->fetch-my-weather) (0.4.2)\n",
            "Requirement already satisfied: charset_normalizer<4,>=2 in /usr/local/lib/python3.12/dist-packages (from requests>=2.25.0->fetch-my-weather) (3.4.3)\n",
            "Requirement already satisfied: idna<4,>=2.5 in /usr/local/lib/python3.12/dist-packages (from requests>=2.25.0->fetch-my-weather) (3.10)\n",
            "Requirement already satisfied: urllib3<3,>=1.21.1 in /usr/local/lib/python3.12/dist-packages (from requests>=2.25.0->fetch-my-weather) (2.5.0)\n",
            "Requirement already satisfied: certifi>=2017.4.17 in /usr/local/lib/python3.12/dist-packages (from requests>=2.25.0->fetch-my-weather) (2025.10.5)\n",
            "Downloading fetch_my_weather-0.4.0-py3-none-any.whl (17 kB)\n",
            "Installing collected packages: fetch-my-weather\n",
            "Successfully installed fetch-my-weather-0.4.0\n",
            "Collecting hands-on-ai\n",
            "  Downloading hands_on_ai-0.2.1-py3-none-any.whl.metadata (9.2 kB)\n",
            "Requirement already satisfied: requests in /usr/local/lib/python3.12/dist-packages (from hands-on-ai) (2.32.4)\n",
            "Requirement already satisfied: typer in /usr/local/lib/python3.12/dist-packages (from hands-on-ai) (0.19.2)\n",
            "Collecting python-fasthtml (from hands-on-ai)\n",
            "  Downloading python_fasthtml-0.12.29-py3-none-any.whl.metadata (9.3 kB)\n",
            "Collecting python-docx (from hands-on-ai)\n",
            "  Downloading python_docx-1.2.0-py3-none-any.whl.metadata (2.0 kB)\n",
            "Collecting pymupdf (from hands-on-ai)\n",
            "  Downloading pymupdf-1.26.5-cp39-abi3-manylinux_2_28_x86_64.whl.metadata (3.4 kB)\n",
            "Requirement already satisfied: scikit-learn in /usr/local/lib/python3.12/dist-packages (from hands-on-ai) (1.6.1)\n",
            "Requirement already satisfied: numpy in /usr/local/lib/python3.12/dist-packages (from hands-on-ai) (2.0.2)\n",
            "Collecting instructor>=1.11.0 (from hands-on-ai)\n",
            "  Downloading instructor-1.11.3-py3-none-any.whl.metadata (11 kB)\n",
            "Requirement already satisfied: pydantic>=2.0 in /usr/local/lib/python3.12/dist-packages (from hands-on-ai) (2.11.10)\n",
            "Requirement already satisfied: aiohttp<4.0.0,>=3.9.1 in /usr/local/lib/python3.12/dist-packages (from instructor>=1.11.0->hands-on-ai) (3.13.0)\n",
            "Collecting diskcache>=5.6.3 (from instructor>=1.11.0->hands-on-ai)\n",
            "  Downloading diskcache-5.6.3-py3-none-any.whl.metadata (20 kB)\n",
            "Requirement already satisfied: docstring-parser<1.0,>=0.16 in /usr/local/lib/python3.12/dist-packages (from instructor>=1.11.0->hands-on-ai) (0.17.0)\n",
            "Requirement already satisfied: jinja2<4.0.0,>=3.1.4 in /usr/local/lib/python3.12/dist-packages (from instructor>=1.11.0->hands-on-ai) (3.1.6)\n",
            "Collecting jiter<0.11,>=0.6.1 (from instructor>=1.11.0->hands-on-ai)\n",
            "  Downloading jiter-0.10.0-cp312-cp312-manylinux_2_17_x86_64.manylinux2014_x86_64.whl.metadata (5.2 kB)\n",
            "Requirement already satisfied: openai<2.0.0,>=1.70.0 in /usr/local/lib/python3.12/dist-packages (from instructor>=1.11.0->hands-on-ai) (1.109.1)\n",
            "Requirement already satisfied: pydantic-core<3.0.0,>=2.18.0 in /usr/local/lib/python3.12/dist-packages (from instructor>=1.11.0->hands-on-ai) (2.33.2)\n",
            "Requirement already satisfied: rich<15.0.0,>=13.7.0 in /usr/local/lib/python3.12/dist-packages (from instructor>=1.11.0->hands-on-ai) (13.9.4)\n",
            "Requirement already satisfied: tenacity<10.0.0,>=8.2.3 in /usr/local/lib/python3.12/dist-packages (from instructor>=1.11.0->hands-on-ai) (8.5.0)\n",
            "Requirement already satisfied: annotated-types>=0.6.0 in /usr/local/lib/python3.12/dist-packages (from pydantic>=2.0->hands-on-ai) (0.7.0)\n",
            "Requirement already satisfied: typing-extensions>=4.12.2 in /usr/local/lib/python3.12/dist-packages (from pydantic>=2.0->hands-on-ai) (4.15.0)\n",
            "Requirement already satisfied: typing-inspection>=0.4.0 in /usr/local/lib/python3.12/dist-packages (from pydantic>=2.0->hands-on-ai) (0.4.2)\n",
            "Requirement already satisfied: charset_normalizer<4,>=2 in /usr/local/lib/python3.12/dist-packages (from requests->hands-on-ai) (3.4.3)\n",
            "Requirement already satisfied: idna<4,>=2.5 in /usr/local/lib/python3.12/dist-packages (from requests->hands-on-ai) (3.10)\n",
            "Requirement already satisfied: urllib3<3,>=1.21.1 in /usr/local/lib/python3.12/dist-packages (from requests->hands-on-ai) (2.5.0)\n",
            "Requirement already satisfied: certifi>=2017.4.17 in /usr/local/lib/python3.12/dist-packages (from requests->hands-on-ai) (2025.10.5)\n",
            "Requirement already satisfied: click>=8.0.0 in /usr/local/lib/python3.12/dist-packages (from typer->hands-on-ai) (8.3.0)\n",
            "Requirement already satisfied: shellingham>=1.3.0 in /usr/local/lib/python3.12/dist-packages (from typer->hands-on-ai) (1.5.4)\n",
            "Requirement already satisfied: lxml>=3.1.0 in /usr/local/lib/python3.12/dist-packages (from python-docx->hands-on-ai) (5.4.0)\n",
            "Requirement already satisfied: fastcore>=1.8.1 in /usr/local/lib/python3.12/dist-packages (from python-fasthtml->hands-on-ai) (1.8.12)\n",
            "Requirement already satisfied: python-dateutil in /usr/local/lib/python3.12/dist-packages (from python-fasthtml->hands-on-ai) (2.9.0.post0)\n",
            "Requirement already satisfied: starlette>0.33 in /usr/local/lib/python3.12/dist-packages (from python-fasthtml->hands-on-ai) (0.48.0)\n",
            "Requirement already satisfied: oauthlib in /usr/local/lib/python3.12/dist-packages (from python-fasthtml->hands-on-ai) (3.3.1)\n",
            "Requirement already satisfied: itsdangerous in /usr/local/lib/python3.12/dist-packages (from python-fasthtml->hands-on-ai) (2.2.0)\n",
            "Requirement already satisfied: uvicorn>=0.30 in /usr/local/lib/python3.12/dist-packages (from uvicorn[standard]>=0.30->python-fasthtml->hands-on-ai) (0.37.0)\n",
            "Requirement already satisfied: httpx in /usr/local/lib/python3.12/dist-packages (from python-fasthtml->hands-on-ai) (0.28.1)\n",
            "Collecting fastlite>=0.1.1 (from python-fasthtml->hands-on-ai)\n",
            "  Downloading fastlite-0.2.1-py3-none-any.whl.metadata (12 kB)\n",
            "Requirement already satisfied: python-multipart in /usr/local/lib/python3.12/dist-packages (from python-fasthtml->hands-on-ai) (0.0.20)\n",
            "Requirement already satisfied: beautifulsoup4 in /usr/local/lib/python3.12/dist-packages (from python-fasthtml->hands-on-ai) (4.13.5)\n",
            "Requirement already satisfied: scipy>=1.6.0 in /usr/local/lib/python3.12/dist-packages (from scikit-learn->hands-on-ai) (1.16.2)\n",
            "Requirement already satisfied: joblib>=1.2.0 in /usr/local/lib/python3.12/dist-packages (from scikit-learn->hands-on-ai) (1.5.2)\n",
            "Requirement already satisfied: threadpoolctl>=3.1.0 in /usr/local/lib/python3.12/dist-packages (from scikit-learn->hands-on-ai) (3.6.0)\n",
            "Requirement already satisfied: aiohappyeyeballs>=2.5.0 in /usr/local/lib/python3.12/dist-packages (from aiohttp<4.0.0,>=3.9.1->instructor>=1.11.0->hands-on-ai) (2.6.1)\n",
            "Requirement already satisfied: aiosignal>=1.4.0 in /usr/local/lib/python3.12/dist-packages (from aiohttp<4.0.0,>=3.9.1->instructor>=1.11.0->hands-on-ai) (1.4.0)\n",
            "Requirement already satisfied: attrs>=17.3.0 in /usr/local/lib/python3.12/dist-packages (from aiohttp<4.0.0,>=3.9.1->instructor>=1.11.0->hands-on-ai) (25.4.0)\n",
            "Requirement already satisfied: frozenlist>=1.1.1 in /usr/local/lib/python3.12/dist-packages (from aiohttp<4.0.0,>=3.9.1->instructor>=1.11.0->hands-on-ai) (1.8.0)\n",
            "Requirement already satisfied: multidict<7.0,>=4.5 in /usr/local/lib/python3.12/dist-packages (from aiohttp<4.0.0,>=3.9.1->instructor>=1.11.0->hands-on-ai) (6.7.0)\n",
            "Requirement already satisfied: propcache>=0.2.0 in /usr/local/lib/python3.12/dist-packages (from aiohttp<4.0.0,>=3.9.1->instructor>=1.11.0->hands-on-ai) (0.3.2)\n",
            "Requirement already satisfied: yarl<2.0,>=1.17.0 in /usr/local/lib/python3.12/dist-packages (from aiohttp<4.0.0,>=3.9.1->instructor>=1.11.0->hands-on-ai) (1.22.0)\n",
            "Requirement already satisfied: packaging in /usr/local/lib/python3.12/dist-packages (from fastcore>=1.8.1->python-fasthtml->hands-on-ai) (25.0)\n",
            "Collecting apswutils>=0.1.0 (from fastlite>=0.1.1->python-fasthtml->hands-on-ai)\n",
            "  Downloading apswutils-0.1.0-py3-none-any.whl.metadata (7.4 kB)\n",
            "Requirement already satisfied: MarkupSafe>=2.0 in /usr/local/lib/python3.12/dist-packages (from jinja2<4.0.0,>=3.1.4->instructor>=1.11.0->hands-on-ai) (3.0.3)\n",
            "Requirement already satisfied: anyio<5,>=3.5.0 in /usr/local/lib/python3.12/dist-packages (from openai<2.0.0,>=1.70.0->instructor>=1.11.0->hands-on-ai) (4.11.0)\n",
            "Requirement already satisfied: distro<2,>=1.7.0 in /usr/local/lib/python3.12/dist-packages (from openai<2.0.0,>=1.70.0->instructor>=1.11.0->hands-on-ai) (1.9.0)\n",
            "Requirement already satisfied: sniffio in /usr/local/lib/python3.12/dist-packages (from openai<2.0.0,>=1.70.0->instructor>=1.11.0->hands-on-ai) (1.3.1)\n",
            "Requirement already satisfied: tqdm>4 in /usr/local/lib/python3.12/dist-packages (from openai<2.0.0,>=1.70.0->instructor>=1.11.0->hands-on-ai) (4.67.1)\n",
            "Requirement already satisfied: httpcore==1.* in /usr/local/lib/python3.12/dist-packages (from httpx->python-fasthtml->hands-on-ai) (1.0.9)\n",
            "Requirement already satisfied: h11>=0.16 in /usr/local/lib/python3.12/dist-packages (from httpcore==1.*->httpx->python-fasthtml->hands-on-ai) (0.16.0)\n",
            "Requirement already satisfied: markdown-it-py>=2.2.0 in /usr/local/lib/python3.12/dist-packages (from rich<15.0.0,>=13.7.0->instructor>=1.11.0->hands-on-ai) (4.0.0)\n",
            "Requirement already satisfied: pygments<3.0.0,>=2.13.0 in /usr/local/lib/python3.12/dist-packages (from rich<15.0.0,>=13.7.0->instructor>=1.11.0->hands-on-ai) (2.19.2)\n",
            "Collecting httptools>=0.6.3 (from uvicorn[standard]>=0.30->python-fasthtml->hands-on-ai)\n",
            "  Downloading httptools-0.7.1-cp312-cp312-manylinux1_x86_64.manylinux_2_28_x86_64.manylinux_2_5_x86_64.whl.metadata (3.5 kB)\n",
            "Requirement already satisfied: python-dotenv>=0.13 in /usr/local/lib/python3.12/dist-packages (from uvicorn[standard]>=0.30->python-fasthtml->hands-on-ai) (1.1.1)\n",
            "Requirement already satisfied: pyyaml>=5.1 in /usr/local/lib/python3.12/dist-packages (from uvicorn[standard]>=0.30->python-fasthtml->hands-on-ai) (6.0.3)\n",
            "Collecting uvloop>=0.15.1 (from uvicorn[standard]>=0.30->python-fasthtml->hands-on-ai)\n",
            "  Downloading uvloop-0.21.0-cp312-cp312-manylinux_2_17_x86_64.manylinux2014_x86_64.whl.metadata (4.9 kB)\n",
            "Collecting watchfiles>=0.13 (from uvicorn[standard]>=0.30->python-fasthtml->hands-on-ai)\n",
            "  Downloading watchfiles-1.1.1-cp312-cp312-manylinux_2_17_x86_64.manylinux2014_x86_64.whl.metadata (4.9 kB)\n",
            "Requirement already satisfied: websockets>=10.4 in /usr/local/lib/python3.12/dist-packages (from uvicorn[standard]>=0.30->python-fasthtml->hands-on-ai) (15.0.1)\n",
            "Requirement already satisfied: soupsieve>1.2 in /usr/local/lib/python3.12/dist-packages (from beautifulsoup4->python-fasthtml->hands-on-ai) (2.8)\n",
            "Requirement already satisfied: six>=1.5 in /usr/local/lib/python3.12/dist-packages (from python-dateutil->python-fasthtml->hands-on-ai) (1.17.0)\n",
            "Collecting apsw (from apswutils>=0.1.0->fastlite>=0.1.1->python-fasthtml->hands-on-ai)\n",
            "  Downloading apsw-3.50.4.0-cp312-cp312-manylinux_2_28_x86_64.whl.metadata (3.7 kB)\n",
            "Requirement already satisfied: mdurl~=0.1 in /usr/local/lib/python3.12/dist-packages (from markdown-it-py>=2.2.0->rich<15.0.0,>=13.7.0->instructor>=1.11.0->hands-on-ai) (0.1.2)\n",
            "Downloading hands_on_ai-0.2.1-py3-none-any.whl (143 kB)\n",
            "\u001b[2K   \u001b[90m━━━━━━━━━━━━━━━━━━━━━━━━━━━━━━━━━━━━━━━━\u001b[0m \u001b[32m143.7/143.7 kB\u001b[0m \u001b[31m5.8 MB/s\u001b[0m eta \u001b[36m0:00:00\u001b[0m\n",
            "\u001b[?25hDownloading instructor-1.11.3-py3-none-any.whl (155 kB)\n",
            "\u001b[2K   \u001b[90m━━━━━━━━━━━━━━━━━━━━━━━━━━━━━━━━━━━━━━━━\u001b[0m \u001b[32m155.5/155.5 kB\u001b[0m \u001b[31m13.5 MB/s\u001b[0m eta \u001b[36m0:00:00\u001b[0m\n",
            "\u001b[?25hDownloading pymupdf-1.26.5-cp39-abi3-manylinux_2_28_x86_64.whl (24.1 MB)\n",
            "\u001b[2K   \u001b[90m━━━━━━━━━━━━━━━━━━━━━━━━━━━━━━━━━━━━━━━━\u001b[0m \u001b[32m24.1/24.1 MB\u001b[0m \u001b[31m113.7 MB/s\u001b[0m eta \u001b[36m0:00:00\u001b[0m\n",
            "\u001b[?25hDownloading python_docx-1.2.0-py3-none-any.whl (252 kB)\n",
            "\u001b[2K   \u001b[90m━━━━━━━━━━━━━━━━━━━━━━━━━━━━━━━━━━━━━━━━\u001b[0m \u001b[32m253.0/253.0 kB\u001b[0m \u001b[31m20.0 MB/s\u001b[0m eta \u001b[36m0:00:00\u001b[0m\n",
            "\u001b[?25hDownloading python_fasthtml-0.12.29-py3-none-any.whl (71 kB)\n",
            "\u001b[2K   \u001b[90m━━━━━━━━━━━━━━━━━━━━━━━━━━━━━━━━━━━━━━━━\u001b[0m \u001b[32m71.0/71.0 kB\u001b[0m \u001b[31m5.3 MB/s\u001b[0m eta \u001b[36m0:00:00\u001b[0m\n",
            "\u001b[?25hDownloading diskcache-5.6.3-py3-none-any.whl (45 kB)\n",
            "\u001b[2K   \u001b[90m━━━━━━━━━━━━━━━━━━━━━━━━━━━━━━━━━━━━━━━━\u001b[0m \u001b[32m45.5/45.5 kB\u001b[0m \u001b[31m3.5 MB/s\u001b[0m eta \u001b[36m0:00:00\u001b[0m\n",
            "\u001b[?25hDownloading fastlite-0.2.1-py3-none-any.whl (17 kB)\n",
            "Downloading jiter-0.10.0-cp312-cp312-manylinux_2_17_x86_64.manylinux2014_x86_64.whl (352 kB)\n",
            "\u001b[2K   \u001b[90m━━━━━━━━━━━━━━━━━━━━━━━━━━━━━━━━━━━━━━━━\u001b[0m \u001b[32m352.0/352.0 kB\u001b[0m \u001b[31m29.4 MB/s\u001b[0m eta \u001b[36m0:00:00\u001b[0m\n",
            "\u001b[?25hDownloading apswutils-0.1.0-py3-none-any.whl (80 kB)\n",
            "\u001b[2K   \u001b[90m━━━━━━━━━━━━━━━━━━━━━━━━━━━━━━━━━━━━━━━━\u001b[0m \u001b[32m80.5/80.5 kB\u001b[0m \u001b[31m6.8 MB/s\u001b[0m eta \u001b[36m0:00:00\u001b[0m\n",
            "\u001b[?25hDownloading httptools-0.7.1-cp312-cp312-manylinux1_x86_64.manylinux_2_28_x86_64.manylinux_2_5_x86_64.whl (517 kB)\n",
            "\u001b[2K   \u001b[90m━━━━━━━━━━━━━━━━━━━━━━━━━━━━━━━━━━━━━━━━\u001b[0m \u001b[32m517.7/517.7 kB\u001b[0m \u001b[31m38.7 MB/s\u001b[0m eta \u001b[36m0:00:00\u001b[0m\n",
            "\u001b[?25hDownloading uvloop-0.21.0-cp312-cp312-manylinux_2_17_x86_64.manylinux2014_x86_64.whl (4.7 MB)\n",
            "\u001b[2K   \u001b[90m━━━━━━━━━━━━━━━━━━━━━━━━━━━━━━━━━━━━━━━━\u001b[0m \u001b[32m4.7/4.7 MB\u001b[0m \u001b[31m130.4 MB/s\u001b[0m eta \u001b[36m0:00:00\u001b[0m\n",
            "\u001b[?25hDownloading watchfiles-1.1.1-cp312-cp312-manylinux_2_17_x86_64.manylinux2014_x86_64.whl (456 kB)\n",
            "\u001b[2K   \u001b[90m━━━━━━━━━━━━━━━━━━━━━━━━━━━━━━━━━━━━━━━━\u001b[0m \u001b[32m456.8/456.8 kB\u001b[0m \u001b[31m39.1 MB/s\u001b[0m eta \u001b[36m0:00:00\u001b[0m\n",
            "\u001b[?25hDownloading apsw-3.50.4.0-cp312-cp312-manylinux_2_28_x86_64.whl (7.1 MB)\n",
            "\u001b[2K   \u001b[90m━━━━━━━━━━━━━━━━━━━━━━━━━━━━━━━━━━━━━━━━\u001b[0m \u001b[32m7.1/7.1 MB\u001b[0m \u001b[31m128.4 MB/s\u001b[0m eta \u001b[36m0:00:00\u001b[0m\n",
            "\u001b[?25hInstalling collected packages: uvloop, python-docx, pymupdf, jiter, httptools, diskcache, apsw, watchfiles, apswutils, fastlite, python-fasthtml, instructor, hands-on-ai\n",
            "  Attempting uninstall: jiter\n",
            "    Found existing installation: jiter 0.11.0\n",
            "    Uninstalling jiter-0.11.0:\n",
            "      Successfully uninstalled jiter-0.11.0\n",
            "Successfully installed apsw-3.50.4.0 apswutils-0.1.0 diskcache-5.6.3 fastlite-0.2.1 hands-on-ai-0.2.1 httptools-0.7.1 instructor-1.11.3 jiter-0.10.0 pymupdf-1.26.5 python-docx-1.2.0 python-fasthtml-0.12.29 uvloop-0.21.0 watchfiles-1.1.1\n",
            "Collecting pyinputplus\n",
            "  Downloading PyInputPlus-0.2.12.tar.gz (20 kB)\n",
            "  Installing build dependencies ... \u001b[?25l\u001b[?25hdone\n",
            "  Getting requirements to build wheel ... \u001b[?25l\u001b[?25hdone\n",
            "  Preparing metadata (pyproject.toml) ... \u001b[?25l\u001b[?25hdone\n",
            "Collecting pysimplevalidate>=0.2.7 (from pyinputplus)\n",
            "  Downloading PySimpleValidate-0.2.12.tar.gz (22 kB)\n",
            "  Installing build dependencies ... \u001b[?25l\u001b[?25hdone\n",
            "  Getting requirements to build wheel ... \u001b[?25l\u001b[?25hdone\n",
            "  Preparing metadata (pyproject.toml) ... \u001b[?25l\u001b[?25hdone\n",
            "Collecting stdiomask>=0.0.3 (from pyinputplus)\n",
            "  Downloading stdiomask-0.0.6.tar.gz (3.6 kB)\n",
            "  Installing build dependencies ... \u001b[?25l\u001b[?25hdone\n",
            "  Getting requirements to build wheel ... \u001b[?25l\u001b[?25hdone\n",
            "  Preparing metadata (pyproject.toml) ... \u001b[?25l\u001b[?25hdone\n",
            "Building wheels for collected packages: pyinputplus, pysimplevalidate, stdiomask\n",
            "  Building wheel for pyinputplus (pyproject.toml) ... \u001b[?25l\u001b[?25hdone\n",
            "  Created wheel for pyinputplus: filename=pyinputplus-0.2.12-py3-none-any.whl size=11348 sha256=458cf9d634bcf70b1c391e6c8074e341e1a28d64fdf2c817cbec8716c5a53de4\n",
            "  Stored in directory: /root/.cache/pip/wheels/85/81/c1/325c8199c5c4de8a0b9af900ff9cd8bd69853e3d9419493512\n",
            "  Building wheel for pysimplevalidate (pyproject.toml) ... \u001b[?25l\u001b[?25hdone\n",
            "  Created wheel for pysimplevalidate: filename=pysimplevalidate-0.2.12-py3-none-any.whl size=16225 sha256=d47bd42e528df12e4e57efab32596e7d1606e5d463edb0a8b90f5cee2cc7a1f3\n",
            "  Stored in directory: /root/.cache/pip/wheels/09/de/18/4dd2be0dbdf31870c6f0abde43b0de197b1c095655ad7da5c2\n",
            "  Building wheel for stdiomask (pyproject.toml) ... \u001b[?25l\u001b[?25hdone\n",
            "  Created wheel for stdiomask: filename=stdiomask-0.0.6-py3-none-any.whl size=3358 sha256=87f013de29540116f2e6dd15342378bf84517f783810311c8d6fb5a308a510b4\n",
            "  Stored in directory: /root/.cache/pip/wheels/05/c7/e6/c66ff8c008b4d73f2db458feb4922075e7755853fe496e5135\n",
            "Successfully built pyinputplus pysimplevalidate stdiomask\n",
            "Installing collected packages: stdiomask, pysimplevalidate, pyinputplus\n",
            "Successfully installed pyinputplus-0.2.12 pysimplevalidate-0.2.12 stdiomask-0.0.6\n",
            "Requirement already satisfied: matplotlib in /usr/local/lib/python3.12/dist-packages (3.10.0)\n",
            "Requirement already satisfied: contourpy>=1.0.1 in /usr/local/lib/python3.12/dist-packages (from matplotlib) (1.3.3)\n",
            "Requirement already satisfied: cycler>=0.10 in /usr/local/lib/python3.12/dist-packages (from matplotlib) (0.12.1)\n",
            "Requirement already satisfied: fonttools>=4.22.0 in /usr/local/lib/python3.12/dist-packages (from matplotlib) (4.60.1)\n",
            "Requirement already satisfied: kiwisolver>=1.3.1 in /usr/local/lib/python3.12/dist-packages (from matplotlib) (1.4.9)\n",
            "Requirement already satisfied: numpy>=1.23 in /usr/local/lib/python3.12/dist-packages (from matplotlib) (2.0.2)\n",
            "Requirement already satisfied: packaging>=20.0 in /usr/local/lib/python3.12/dist-packages (from matplotlib) (25.0)\n",
            "Requirement already satisfied: pillow>=8 in /usr/local/lib/python3.12/dist-packages (from matplotlib) (11.3.0)\n",
            "Requirement already satisfied: pyparsing>=2.3.1 in /usr/local/lib/python3.12/dist-packages (from matplotlib) (3.2.5)\n",
            "Requirement already satisfied: python-dateutil>=2.7 in /usr/local/lib/python3.12/dist-packages (from matplotlib) (2.9.0.post0)\n",
            "Requirement already satisfied: six>=1.5 in /usr/local/lib/python3.12/dist-packages (from python-dateutil>=2.7->matplotlib) (1.17.0)\n"
          ]
        }
      ],
      "source": [
        "!pip install fetch-my-weather\n",
        "!pip install hands-on-ai\n",
        "!pip install pyinputplus\n",
        "!pip install matplotlib"
      ]
    },
    {
      "cell_type": "code",
      "source": [
        "import os\n",
        "\n",
        "os.environ['HANDS_ON_AI_SERVER'] = 'http://ollama.serveur.au'\n",
        "os.environ['HANDS_ON_AI_MODEL'] = 'granite3.2'\n",
        "os.environ['HANDS_ON_AI_API_KEY'] = input('Enter your API key: ')"
      ],
      "metadata": {
        "id": "B2JKlJfrGgIb",
        "colab": {
          "base_uri": "https://localhost:8080/"
        },
        "outputId": "89a3e0ba-34cc-4f28-a0b4-392b1c93e2cb"
      },
      "id": "B2JKlJfrGgIb",
      "execution_count": 6,
      "outputs": [
        {
          "name": "stdout",
          "output_type": "stream",
          "text": [
            "Enter your API key: 3\n"
          ]
        }
      ]
    },
    {
      "cell_type": "markdown",
      "id": "59ae7543",
      "metadata": {
        "id": "59ae7543"
      },
      "source": [
        "## 📦 Setup and Configuration\n",
        "Import required packages and setup environment."
      ]
    },
    {
      "cell_type": "code",
      "execution_count": 7,
      "id": "f1dd051e",
      "metadata": {
        "id": "f1dd051e"
      },
      "outputs": [],
      "source": [
        "import requests\n",
        "import matplotlib.pyplot as plt\n",
        "import pyinputplus as pyip\n",
        "\n",
        "# Libraries for Fetching Weather Data\n",
        "from fetch_my_weather import get_weather\n",
        "from hands_on_ai.chat import get_response"
      ]
    },
    {
      "cell_type": "markdown",
      "id": "f736ade3",
      "metadata": {
        "id": "f736ade3"
      },
      "source": [
        "## 🌤️ Weather Data Functions"
      ]
    },
    {
      "cell_type": "code",
      "execution_count": 8,
      "id": "7a2c7cd0",
      "metadata": {
        "id": "7a2c7cd0"
      },
      "outputs": [],
      "source": [
        "from datetime import datetime, timezone\n",
        "from collections import defaultdict\n",
        "import requests\n",
        "\n",
        "API_KEY = \"84da7cc3f2d9ede0095a61917cf3b0fa\"\n",
        "\n",
        "def get_weather_data(location, forecast_days=5):\n",
        "    # Clamp days between 1 and 5\n",
        "    try:\n",
        "        n_days = int(forecast_days)\n",
        "    except (TypeError, ValueError):\n",
        "        n_days = 5\n",
        "    n_days = 1 if n_days < 1 else 5 if n_days > 5 else n_days\n",
        "\n",
        "    # Geocode to coordinates\n",
        "    geo_resp = requests.get(\n",
        "        \"http://api.openweathermap.org/geo/1.0/direct\",\n",
        "        params={\"q\": location, \"limit\": 1, \"appid\": API_KEY},\n",
        "    ).json()\n",
        "\n",
        "    if not geo_resp:\n",
        "        print(f\"Location '{location}' not found.\")\n",
        "        return None\n",
        "\n",
        "    lat_deg, lon_deg = geo_resp[0][\"lat\"], geo_resp[0][\"lon\"]\n",
        "\n",
        "    # Current conditions\n",
        "    now_json = requests.get(\n",
        "        \"https://api.openweathermap.org/data/2.5/weather\",\n",
        "        params={\"lat\": lat_deg, \"lon\": lon_deg, \"units\": \"metric\", \"appid\": API_KEY},\n",
        "    ).json()\n",
        "\n",
        "    # 5-day / 3-hour forecast\n",
        "    prog_json = requests.get(\n",
        "        \"https://api.openweathermap.org/data/2.5/forecast\",\n",
        "        params={\"lat\": lat_deg, \"lon\": lon_deg, \"units\": \"metric\", \"appid\": API_KEY},\n",
        "    ).json()\n",
        "\n",
        "    # Group forecast entries by UTC date (string)\n",
        "    day_buckets = {}\n",
        "    for slot in prog_json.get(\"list\", []):\n",
        "        day_key = datetime.fromtimestamp(slot[\"dt\"], tz=timezone.utc).strftime(\"%Y-%m-%d\")\n",
        "        day_buckets.setdefault(day_key, []).append(slot)\n",
        "\n",
        "    # Summarise per day\n",
        "    days = []\n",
        "    for day_key, slots in day_buckets.items():\n",
        "        if len(days) >= n_days:\n",
        "            break\n",
        "\n",
        "        temps = [s[\"main\"][\"temp\"] for s in slots if \"main\" in s]\n",
        "        wx_text = slots[0][\"weather\"][0][\"description\"] if slots and slots[0].get(\"weather\") else None\n",
        "        precip_total_mm = sum((s.get(\"rain\", {}).get(\"3h\") or 0) for s in slots)\n",
        "        pop_vals = [(s.get(\"pop\") or 0) for s in slots]\n",
        "        pop_avg_pct = (sum(pop_vals) / len(pop_vals) * 100) if pop_vals else 0\n",
        "\n",
        "        day_summary = {\n",
        "            \"dateLabel\": day_key,\n",
        "            \"highTempC\": max(temps) if temps else None,\n",
        "            \"lowTempC\": min(temps) if temps else None,\n",
        "            \"meanTempC\": (sum(temps) / len(temps)) if temps else None,\n",
        "            \"conditions\": wx_text,\n",
        "            \"rainfallMM\": precip_total_mm,\n",
        "            \"rainChancePct\": pop_avg_pct\n",
        "        }\n",
        "        days.append(day_summary)\n",
        "\n",
        "    # Weather Results\n",
        "    weather_package = {\n",
        "        \"location\": location,\n",
        "        \"currentStatus\": {\n",
        "            \"temperatureC\": now_json.get(\"main\", {}).get(\"temp\"),\n",
        "            \"conditions\": (now_json.get(\"weather\") or [{}])[0].get(\"description\"),\n",
        "            \"humidityPct\": now_json.get(\"main\", {}).get(\"humidity\"),\n",
        "            \"feelsLikeC\": now_json.get(\"main\", {}).get(\"feels_like\"),\n",
        "            \"windSpeedKmph\": now_json.get(\"wind\", {}).get(\"speed\"),\n",
        "        },\n",
        "        \"forecastDays\": days\n",
        "    }\n",
        "\n",
        "    return weather_package\n"
      ]
    },
    {
      "cell_type": "markdown",
      "id": "8a744fdc",
      "metadata": {
        "id": "8a744fdc"
      },
      "source": [
        "## 📊 Visualisation Functions"
      ]
    },
    {
      "cell_type": "code",
      "execution_count": 9,
      "id": "9dc3bf85",
      "metadata": {
        "id": "9dc3bf85"
      },
      "outputs": [],
      "source": [
        "import matplotlib.pyplot as plt\n",
        "import pandas as pd\n",
        "\n",
        "\n",
        "from datetime import datetime\n",
        "\n",
        "def create_temperature_visualisation(weather_bundle, date_limits=None, output_mode='display'):\n",
        "\n",
        "    daily_data = weather_bundle.get(\"forecastDays\", [])\n",
        "    if not daily_data:\n",
        "        raise ValueError(\"No forecast data available\")\n",
        "\n",
        "    # Optional filtering by date range\n",
        "    if date_limits:\n",
        "        start_dt = datetime.strptime(date_limits[0], \"%Y-%m-%d\")\n",
        "        end_dt = datetime.strptime(date_limits[1], \"%Y-%m-%d\")\n",
        "        daily_data = [\n",
        "            d for d in daily_data\n",
        "            if start_dt <= datetime.strptime(d[\"dateLabel\"], \"%Y-%m-%d\") <= end_dt\n",
        "        ]\n",
        "\n",
        "    if not daily_data:\n",
        "        raise ValueError(\"No forecast data available in the given date range\")\n",
        "\n",
        "    # Extract values for plotting\n",
        "    day_labels = [d[\"dateLabel\"] for d in daily_data]\n",
        "    highs = [d[\"highTempC\"] for d in daily_data]\n",
        "    lows = [d[\"lowTempC\"] for d in daily_data]\n",
        "    means = [d[\"meanTempC\"] for d in daily_data]\n",
        "\n",
        "    # Plotting\n",
        "    plt.figure(figsize=(9, 5))\n",
        "    plt.plot(day_labels, highs, color='red', marker='o', label='High (°C)')\n",
        "    plt.plot(day_labels, lows, color='blue', marker='o', label='Low (°C)')\n",
        "    plt.plot(day_labels, means, color='orange', marker='o', label='Mean (°C)', linestyle='--')\n",
        "\n",
        "    plt.xlabel(\"Date\")\n",
        "    plt.ylabel(\"Temperature (°C)\")\n",
        "    plt.title(f\"Temperature Forecast for {weather_bundle.get('location', 'Unknown')}\")\n",
        "    plt.xticks(rotation=30)\n",
        "    plt.grid(True, linestyle='--', alpha=0.5)\n",
        "    plt.legend()\n",
        "    plt.tight_layout()\n",
        "\n",
        "    if output_mode == 'display':\n",
        "        plt.show()\n",
        "    elif output_mode == 'save':\n",
        "        filename = \"temperature_forecast.png\"\n",
        "        plt.savefig(filename)\n",
        "        return filename\n",
        "    else:\n",
        "        raise ValueError(\"Invalid output_mode. Use 'display' or 'save'.\")"
      ]
    },
    {
      "cell_type": "code",
      "source": [
        "def create_precipitation_visualisation(weather_bundle, output_mode='display'):\n",
        "    \"\"\"\n",
        "    Visualise daily precipitation (mm) and chance of rain (%) from forecast data.\n",
        "\n",
        "    Args:\n",
        "        weather_bundle (dict): Weather dataset containing 'forecastDays'.\n",
        "        output_mode (str): 'display' to show plot, 'save' to save PNG.\n",
        "    \"\"\"\n",
        "    # Extract forecastDays list\n",
        "    daily_data = weather_bundle.get(\"forecastDays\", [])\n",
        "    if not daily_data:\n",
        "        raise ValueError(\"No forecast data available\")\n",
        "\n",
        "    # Prepare data for plotting\n",
        "    day_labels = [d[\"dateLabel\"] for d in daily_data]\n",
        "    rain_amounts = [d[\"rainfallMM\"] for d in daily_data]\n",
        "    rain_chances = [d[\"rainChancePct\"] for d in daily_data]\n",
        "\n",
        "    # Create figure and axes\n",
        "    fig, ax_precip = plt.subplots(figsize=(8, 5))\n",
        "\n",
        "    # Bar chart for precipitation\n",
        "    ax_precip.bar(day_labels, rain_amounts, color='blue', alpha=0.6, label=\"Rainfall (mm)\")\n",
        "    ax_precip.set_xlabel(\"Date\")\n",
        "    ax_precip.set_ylabel(\"Rainfall (mm)\", color='blue')\n",
        "    ax_precip.tick_params(axis='y', labelcolor='blue')\n",
        "\n",
        "    # Line chart for chance of rain (second axis)\n",
        "    ax_chance = ax_precip.twinx()\n",
        "    ax_chance.plot(day_labels, rain_chances, color='red', marker='o', label=\"Chance of Rain (%)\")\n",
        "    ax_chance.set_ylabel(\"Chance of Rain (%)\", color='red')\n",
        "    ax_chance.tick_params(axis='y', labelcolor='red')\n",
        "\n",
        "    # Title and legends\n",
        "    plt.title(f\"Precipitation Forecast for {weather_bundle.get('location', 'Unknown')}\")\n",
        "    ax_precip.legend(loc=\"upper left\")\n",
        "    ax_chance.legend(loc=\"upper right\")\n",
        "\n",
        "    plt.tight_layout()\n",
        "\n",
        "    if output_mode == 'display':\n",
        "        plt.show()\n",
        "    elif output_mode == 'save':\n",
        "        filename = \"precipitation_forecast.png\"\n",
        "        plt.savefig(filename)\n",
        "        return filename\n",
        "    else:\n",
        "        raise ValueError(\"Invalid output_mode. Use 'display' or 'save'.\")\n",
        "\n",
        "\n"
      ],
      "metadata": {
        "id": "HpOlQylYG5Ho"
      },
      "id": "HpOlQylYG5Ho",
      "execution_count": 10,
      "outputs": []
    },
    {
      "cell_type": "markdown",
      "id": "9f95d160",
      "metadata": {
        "id": "9f95d160"
      },
      "source": [
        "## 🤖 Natural Language Processing"
      ]
    },
    {
      "cell_type": "code",
      "execution_count": 16,
      "id": "bcc5833e",
      "metadata": {
        "id": "bcc5833e"
      },
      "outputs": [],
      "source": [
        "import re\n",
        "from datetime import datetime, timedelta\n",
        "\n",
        "def parse_weather_question(question):\n",
        "    question = question.lower().strip()\n",
        "\n",
        "    result = {\n",
        "        \"location\": None,\n",
        "        \"time_period\": \"today\",\n",
        "        \"attribute\": \"general\"\n",
        "    }\n",
        "\n",
        "    match = re.search(r'\\b(?:in|of|for)\\s+([a-z\\s]+?)(?:\\s+(today|tomorrow|next|weather|temperature|rain|forecast|$))', question)\n",
        "    if match:\n",
        "        result[\"location\"] = match.group(1).strip()\n",
        "    else:\n",
        "        # fallback: last word if it looks like a city\n",
        "        tokens = question.split()\n",
        "        if len(tokens) > 1:\n",
        "            result[\"location\"] = tokens[-1]\n",
        "\n",
        "    if \"tomorrow\" in question:\n",
        "        result[\"time_period\"] = \"tomorrow\"\n",
        "    elif m := re.search(r'next\\s+(\\d+)\\s+days', question):\n",
        "        result[\"time_period\"] = f\"next_{m.group(1)}_days\"\n",
        "\n",
        "    # ---- Extract weather attribute ----\n",
        "    if \"temperature\" in question:\n",
        "        result[\"attribute\"] = \"temperature\"\n",
        "    elif any(word in question for word in [\"rain\", \"precipitation\"]):\n",
        "        result[\"attribute\"] = \"precipitation\"\n",
        "    elif \"forecast\" in question or \"weather\" in question:\n",
        "        result[\"attribute\"] = \"forecast\"\n",
        "\n",
        "    return result\n"
      ]
    },
    {
      "cell_type": "markdown",
      "id": "0d85225e",
      "metadata": {
        "id": "0d85225e"
      },
      "source": [
        "## 🧭 User Interface"
      ]
    },
    {
      "cell_type": "code",
      "execution_count": 12,
      "id": "fa6cb0f6",
      "metadata": {
        "id": "fa6cb0f6"
      },
      "outputs": [],
      "source": [
        "# Define menu functions using pyinputplus or ipywidgets here"
      ]
    },
    {
      "cell_type": "markdown",
      "id": "d643a53c",
      "metadata": {
        "id": "d643a53c"
      },
      "source": [
        "## 🧩 Main Application Logic"
      ]
    },
    {
      "cell_type": "code",
      "execution_count": 19,
      "id": "a9e2e805",
      "metadata": {
        "id": "a9e2e805"
      },
      "outputs": [],
      "source": [
        "def generate_weather_response(parsed_question, weather_data):\n",
        "    # Handle missing or malformed data\n",
        "    forecast_data = weather_data.get(\"forecastDays\")\n",
        "    if not weather_data or not forecast_data:\n",
        "        return \"Sorry, I couldn't retrieve weather data at this time.\"\n",
        "\n",
        "    location = parsed_question.get(\"location\", weather_data.get(\"location\", \"your location\"))\n",
        "    time_period = parsed_question.get(\"time_period\", \"today\")\n",
        "    attribute = parsed_question.get(\"attribute\", \"general\")\n",
        "\n",
        "    # Helper to get a forecast by index\n",
        "    def get_day_forecast(index):\n",
        "        if index < len(forecast_data):\n",
        "            return forecast_data[index]\n",
        "        return None\n",
        "\n",
        "    # Optionally visualize\n",
        "    create_temperature_visualisation(weather_data)\n",
        "    create_precipitation_visualisation(weather_data)\n",
        "\n",
        "    response = \"\"\n",
        "\n",
        "    # ====== TODAY ======\n",
        "    if time_period == \"today\":\n",
        "        day_forecast = get_day_forecast(0)\n",
        "        if not day_forecast:\n",
        "            return f\"Sorry, I don't have today's forecast for {location}.\"\n",
        "\n",
        "        if attribute == \"temperature\":\n",
        "            response = (f\"The temperature today ranges from \"\n",
        "                        f\"{day_forecast['lowTempC']:.1f}°C to {day_forecast['highTempC']:.1f}°C \"\n",
        "                        f\"(avg {day_forecast['meanTempC']:.1f}°C).\")\n",
        "        elif attribute == \"precipitation\":\n",
        "            response = (f\"There’s a {day_forecast['rainChancePct']}% chance of rain \"\n",
        "                        f\"with about {day_forecast['rainfallMM']} mm expected.\")\n",
        "        else:\n",
        "            response = (f\"Today's weather: {day_forecast['conditions']}, \"\n",
        "                        f\"temp {day_forecast['lowTempC']:.1f}–{day_forecast['highTempC']:.1f}°C, \"\n",
        "                        f\"rain {day_forecast['rainfallMM']} mm.\")\n",
        "\n",
        "    # ====== TOMORROW ======\n",
        "    elif time_period == \"tomorrow\":\n",
        "        day_forecast = get_day_forecast(1)\n",
        "        if not day_forecast:\n",
        "            return f\"Sorry, I don't have tomorrow's forecast for {location}.\"\n",
        "\n",
        "        if attribute == \"temperature\":\n",
        "            response = (f\"Tomorrow in {location}, temperatures will range from \"\n",
        "                        f\"{day_forecast['lowTempC']:.1f}°C to {day_forecast['highTempC']:.1f}°C \"\n",
        "                        f\"(avg {day_forecast['meanTempC']:.1f}°C).\")\n",
        "        elif attribute == \"precipitation\":\n",
        "            response = (f\"Tomorrow there’s a {day_forecast['rainChancePct']}% chance of rain \"\n",
        "                        f\"with {day_forecast['rainfallMM']} mm expected.\")\n",
        "        else:\n",
        "            response = (f\"Tomorrow in {location}: {day_forecast['conditions']}, \"\n",
        "                        f\"temp {day_forecast['lowTempC']:.1f}–{day_forecast['highTempC']:.1f}°C, \"\n",
        "                        f\"rain {day_forecast['rainfallMM']} mm.\")\n",
        "\n",
        "    # ====== NEXT X DAYS ======\n",
        "    elif time_period.startswith(\"next_\"):\n",
        "        days = int(time_period.split(\"_\")[1])\n",
        "        forecast_list = forecast_data[:days]\n",
        "        if not forecast_list:\n",
        "            return f\"Sorry, I don't have the forecast for the next {days} days in {location}.\"\n",
        "\n",
        "        lines = [f\"Weather forecast for the next {days} days in {location}:\"]\n",
        "        for day in forecast_list:\n",
        "            lines.append(f\"{day['dateLabel']}: {day['conditions']}, \"\n",
        "                         f\"{day['lowTempC']:.1f}–{day['highTempC']:.1f}°C, \"\n",
        "                         f\"rain {day['rainfallMM']} mm.\")\n",
        "        response = \"\\n\".join(lines)\n",
        "\n",
        "    else:\n",
        "        response = \"Sorry, I couldn't understand the time period you asked for.\"\n",
        "\n",
        "    return response\n"
      ]
    },
    {
      "cell_type": "markdown",
      "id": "fde44479",
      "metadata": {
        "id": "fde44479"
      },
      "source": [
        "## 🧪 Testing and Examples"
      ]
    },
    {
      "cell_type": "code",
      "execution_count": 21,
      "id": "4e573901",
      "metadata": {
        "id": "4e573901",
        "colab": {
          "base_uri": "https://localhost:8080/",
          "height": 1000
        },
        "outputId": "a74caf0d-ad96-491c-a1dd-fc46b5c035bd"
      },
      "outputs": [
        {
          "name": "stdout",
          "output_type": "stream",
          "text": [
            "🌤️ Weather Assistant\n",
            "Ask me about the weather (e.g., 'What will the temperature be in Paris tomorrow?'):\n",
            "> what is temperature in dhaka today\n"
          ]
        },
        {
          "output_type": "display_data",
          "data": {
            "text/plain": [
              "<Figure size 900x500 with 1 Axes>"
            ],
            "image/png": "[encoded data removed]"
          },
          "metadata": {}
        },
        {
          "output_type": "display_data",
          "data": {
            "text/plain": [
              "<Figure size 800x500 with 2 Axes>"
            ],
            "image/png": "[encoded data removed]"
          },
          "metadata": {}
        },
        {
          "output_type": "stream",
          "name": "stdout",
          "text": [
            "\n",
            "👉 The temperature today ranges from 24.5°C to 31.7°C (avg 27.9°C).\n"
          ]
        }
      ],
      "source": [
        "# Include sample input/output for each function\n",
        "def main():\n",
        "    print(\"🌤️ Weather Assistant\")\n",
        "    question = input(\"Ask me about the weather (e.g., 'What will the temperature be in Paris tomorrow?'):\\n> \")\n",
        "\n",
        "    parsed = parse_weather_question(question)\n",
        "    # print(parsed.get('location'))\n",
        "    location = parsed.get(\"location\")\n",
        "\n",
        "    weather_data = get_weather_data(location, forecast_days=3)\n",
        "    # print(weather_data)\n",
        "    if not weather_data:\n",
        "        print(\"Could not fetch weather data.\")\n",
        "        return\n",
        "\n",
        "    response = generate_weather_response(parsed, weather_data)\n",
        "    print(\"\\n👉 \" + response)\n",
        "\n",
        "\n",
        "# Example run\n",
        "if __name__ == \"__main__\":\n",
        "    main()\n"
      ]
    },
    {
      "cell_type": "markdown",
      "id": "d2885880",
      "metadata": {
        "id": "d2885880"
      },
      "source": [
        "## 🗂️ AI Prompting Log (Optional)\n",
        "Add markdown cells here summarising prompts used or link to AI conversations in the `ai-conversations/` folder."
      ]
    }
  ],
  "metadata": {
    "language_info": {
      "name": "python"
    },
    "colab": {
      "provenance": [],
      "include_colab_link": true
    },
    "kernelspec": {
      "name": "python3",
      "display_name": "Python 3"
    }
  },
  "nbformat": 4,
  "nbformat_minor": 5
}